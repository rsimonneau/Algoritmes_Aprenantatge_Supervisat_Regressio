{
 "cells": [
  {
   "cell_type": "markdown",
   "id": "cfb945f1",
   "metadata": {},
   "source": [
    "- Exercici 1\n",
    "\n",
    "Crea almenys dos models de regressió diferents per intentar predir el millor possible el preu de les vivendes (MEDV) de l'arxiu adjunt.\n",
    "\n",
    "- Exercici 2\n",
    "\n",
    "Compara’ls en base al MSE i al R2.\n",
    "\n",
    "- Exercici 3\n",
    "\n",
    "Entrena’ls utilitzant els diferents paràmetres que admeten per intentar millorar-ne la predicció.\n",
    "\n",
    "- Exercici 4\n",
    "\n",
    "Compara el seu rendiment emprant l’aproximació traint/test o emprant totes les dades (validació interna).\n",
    "\n",
    "- Exercici 5\n",
    "\n",
    "No facis servir la variable del nombre d'habitacions (RM) a l’hora de fer prediccions.\n"
   ]
  },
  {
   "cell_type": "markdown",
   "id": "36c828c5",
   "metadata": {},
   "source": [
    "***Sobre cada model generat es realitzen cada un dels exercicis sol·licitats***"
   ]
  },
  {
   "cell_type": "code",
   "execution_count": 101,
   "id": "e92c3973",
   "metadata": {},
   "outputs": [
    {
     "data": {
      "text/html": [
       "<div>\n",
       "<style scoped>\n",
       "    .dataframe tbody tr th:only-of-type {\n",
       "        vertical-align: middle;\n",
       "    }\n",
       "\n",
       "    .dataframe tbody tr th {\n",
       "        vertical-align: top;\n",
       "    }\n",
       "\n",
       "    .dataframe thead th {\n",
       "        text-align: right;\n",
       "    }\n",
       "</style>\n",
       "<table border=\"1\" class=\"dataframe\">\n",
       "  <thead>\n",
       "    <tr style=\"text-align: right;\">\n",
       "      <th></th>\n",
       "      <th>CRIM</th>\n",
       "      <th>ZN</th>\n",
       "      <th>INDUS</th>\n",
       "      <th>CHAS</th>\n",
       "      <th>NOX</th>\n",
       "      <th>RM</th>\n",
       "      <th>AGE</th>\n",
       "      <th>DIS</th>\n",
       "      <th>RAD</th>\n",
       "      <th>TAX</th>\n",
       "      <th>PTRATIO</th>\n",
       "      <th>B</th>\n",
       "      <th>LSTAT</th>\n",
       "      <th>MEDV</th>\n",
       "    </tr>\n",
       "  </thead>\n",
       "  <tbody>\n",
       "    <tr>\n",
       "      <th>0</th>\n",
       "      <td>0.00632</td>\n",
       "      <td>18.0</td>\n",
       "      <td>2.31</td>\n",
       "      <td>0</td>\n",
       "      <td>0.538</td>\n",
       "      <td>6.575</td>\n",
       "      <td>65.2</td>\n",
       "      <td>4.0900</td>\n",
       "      <td>1</td>\n",
       "      <td>296.0</td>\n",
       "      <td>15.3</td>\n",
       "      <td>396.90</td>\n",
       "      <td>4.98</td>\n",
       "      <td>24.0</td>\n",
       "    </tr>\n",
       "    <tr>\n",
       "      <th>1</th>\n",
       "      <td>0.02731</td>\n",
       "      <td>0.0</td>\n",
       "      <td>7.07</td>\n",
       "      <td>0</td>\n",
       "      <td>0.469</td>\n",
       "      <td>6.421</td>\n",
       "      <td>78.9</td>\n",
       "      <td>4.9671</td>\n",
       "      <td>2</td>\n",
       "      <td>242.0</td>\n",
       "      <td>17.8</td>\n",
       "      <td>396.90</td>\n",
       "      <td>9.14</td>\n",
       "      <td>21.6</td>\n",
       "    </tr>\n",
       "    <tr>\n",
       "      <th>2</th>\n",
       "      <td>0.02729</td>\n",
       "      <td>0.0</td>\n",
       "      <td>7.07</td>\n",
       "      <td>0</td>\n",
       "      <td>0.469</td>\n",
       "      <td>7.185</td>\n",
       "      <td>61.1</td>\n",
       "      <td>4.9671</td>\n",
       "      <td>2</td>\n",
       "      <td>242.0</td>\n",
       "      <td>17.8</td>\n",
       "      <td>392.83</td>\n",
       "      <td>4.03</td>\n",
       "      <td>34.7</td>\n",
       "    </tr>\n",
       "    <tr>\n",
       "      <th>3</th>\n",
       "      <td>0.03237</td>\n",
       "      <td>0.0</td>\n",
       "      <td>2.18</td>\n",
       "      <td>0</td>\n",
       "      <td>0.458</td>\n",
       "      <td>6.998</td>\n",
       "      <td>45.8</td>\n",
       "      <td>6.0622</td>\n",
       "      <td>3</td>\n",
       "      <td>222.0</td>\n",
       "      <td>18.7</td>\n",
       "      <td>394.63</td>\n",
       "      <td>2.94</td>\n",
       "      <td>33.4</td>\n",
       "    </tr>\n",
       "    <tr>\n",
       "      <th>4</th>\n",
       "      <td>0.06905</td>\n",
       "      <td>0.0</td>\n",
       "      <td>2.18</td>\n",
       "      <td>0</td>\n",
       "      <td>0.458</td>\n",
       "      <td>7.147</td>\n",
       "      <td>54.2</td>\n",
       "      <td>6.0622</td>\n",
       "      <td>3</td>\n",
       "      <td>222.0</td>\n",
       "      <td>18.7</td>\n",
       "      <td>396.90</td>\n",
       "      <td>5.33</td>\n",
       "      <td>36.2</td>\n",
       "    </tr>\n",
       "    <tr>\n",
       "      <th>...</th>\n",
       "      <td>...</td>\n",
       "      <td>...</td>\n",
       "      <td>...</td>\n",
       "      <td>...</td>\n",
       "      <td>...</td>\n",
       "      <td>...</td>\n",
       "      <td>...</td>\n",
       "      <td>...</td>\n",
       "      <td>...</td>\n",
       "      <td>...</td>\n",
       "      <td>...</td>\n",
       "      <td>...</td>\n",
       "      <td>...</td>\n",
       "      <td>...</td>\n",
       "    </tr>\n",
       "    <tr>\n",
       "      <th>501</th>\n",
       "      <td>0.06263</td>\n",
       "      <td>0.0</td>\n",
       "      <td>11.93</td>\n",
       "      <td>0</td>\n",
       "      <td>0.573</td>\n",
       "      <td>6.593</td>\n",
       "      <td>69.1</td>\n",
       "      <td>2.4786</td>\n",
       "      <td>1</td>\n",
       "      <td>273.0</td>\n",
       "      <td>21.0</td>\n",
       "      <td>391.99</td>\n",
       "      <td>9.67</td>\n",
       "      <td>22.4</td>\n",
       "    </tr>\n",
       "    <tr>\n",
       "      <th>502</th>\n",
       "      <td>0.04527</td>\n",
       "      <td>0.0</td>\n",
       "      <td>11.93</td>\n",
       "      <td>0</td>\n",
       "      <td>0.573</td>\n",
       "      <td>6.120</td>\n",
       "      <td>76.7</td>\n",
       "      <td>2.2875</td>\n",
       "      <td>1</td>\n",
       "      <td>273.0</td>\n",
       "      <td>21.0</td>\n",
       "      <td>396.90</td>\n",
       "      <td>9.08</td>\n",
       "      <td>20.6</td>\n",
       "    </tr>\n",
       "    <tr>\n",
       "      <th>503</th>\n",
       "      <td>0.06076</td>\n",
       "      <td>0.0</td>\n",
       "      <td>11.93</td>\n",
       "      <td>0</td>\n",
       "      <td>0.573</td>\n",
       "      <td>6.976</td>\n",
       "      <td>91.0</td>\n",
       "      <td>2.1675</td>\n",
       "      <td>1</td>\n",
       "      <td>273.0</td>\n",
       "      <td>21.0</td>\n",
       "      <td>396.90</td>\n",
       "      <td>5.64</td>\n",
       "      <td>23.9</td>\n",
       "    </tr>\n",
       "    <tr>\n",
       "      <th>504</th>\n",
       "      <td>0.10959</td>\n",
       "      <td>0.0</td>\n",
       "      <td>11.93</td>\n",
       "      <td>0</td>\n",
       "      <td>0.573</td>\n",
       "      <td>6.794</td>\n",
       "      <td>89.3</td>\n",
       "      <td>2.3889</td>\n",
       "      <td>1</td>\n",
       "      <td>273.0</td>\n",
       "      <td>21.0</td>\n",
       "      <td>393.45</td>\n",
       "      <td>6.48</td>\n",
       "      <td>22.0</td>\n",
       "    </tr>\n",
       "    <tr>\n",
       "      <th>505</th>\n",
       "      <td>0.04741</td>\n",
       "      <td>0.0</td>\n",
       "      <td>11.93</td>\n",
       "      <td>0</td>\n",
       "      <td>0.573</td>\n",
       "      <td>6.030</td>\n",
       "      <td>80.8</td>\n",
       "      <td>2.5050</td>\n",
       "      <td>1</td>\n",
       "      <td>273.0</td>\n",
       "      <td>21.0</td>\n",
       "      <td>396.90</td>\n",
       "      <td>7.88</td>\n",
       "      <td>11.9</td>\n",
       "    </tr>\n",
       "  </tbody>\n",
       "</table>\n",
       "<p>506 rows × 14 columns</p>\n",
       "</div>"
      ],
      "text/plain": [
       "        CRIM    ZN  INDUS  CHAS    NOX     RM   AGE     DIS  RAD    TAX  \\\n",
       "0    0.00632  18.0   2.31     0  0.538  6.575  65.2  4.0900    1  296.0   \n",
       "1    0.02731   0.0   7.07     0  0.469  6.421  78.9  4.9671    2  242.0   \n",
       "2    0.02729   0.0   7.07     0  0.469  7.185  61.1  4.9671    2  242.0   \n",
       "3    0.03237   0.0   2.18     0  0.458  6.998  45.8  6.0622    3  222.0   \n",
       "4    0.06905   0.0   2.18     0  0.458  7.147  54.2  6.0622    3  222.0   \n",
       "..       ...   ...    ...   ...    ...    ...   ...     ...  ...    ...   \n",
       "501  0.06263   0.0  11.93     0  0.573  6.593  69.1  2.4786    1  273.0   \n",
       "502  0.04527   0.0  11.93     0  0.573  6.120  76.7  2.2875    1  273.0   \n",
       "503  0.06076   0.0  11.93     0  0.573  6.976  91.0  2.1675    1  273.0   \n",
       "504  0.10959   0.0  11.93     0  0.573  6.794  89.3  2.3889    1  273.0   \n",
       "505  0.04741   0.0  11.93     0  0.573  6.030  80.8  2.5050    1  273.0   \n",
       "\n",
       "     PTRATIO       B  LSTAT  MEDV  \n",
       "0       15.3  396.90   4.98  24.0  \n",
       "1       17.8  396.90   9.14  21.6  \n",
       "2       17.8  392.83   4.03  34.7  \n",
       "3       18.7  394.63   2.94  33.4  \n",
       "4       18.7  396.90   5.33  36.2  \n",
       "..       ...     ...    ...   ...  \n",
       "501     21.0  391.99   9.67  22.4  \n",
       "502     21.0  396.90   9.08  20.6  \n",
       "503     21.0  396.90   5.64  23.9  \n",
       "504     21.0  393.45   6.48  22.0  \n",
       "505     21.0  396.90   7.88  11.9  \n",
       "\n",
       "[506 rows x 14 columns]"
      ]
     },
     "execution_count": 101,
     "metadata": {},
     "output_type": "execute_result"
    }
   ],
   "source": [
    "import pandas as pd\n",
    "\n",
    "pd.read_csv('housing_data.csv')\n",
    "\n",
    "Columnes = ['CRIM','ZN','INDUS','CHAS','NOX','RM','AGE','DIS','RAD','TAX','PTRATIO','B','LSTAT','MEDV']\n",
    "\n",
    "Boston_df = pd.read_csv('housing_data.csv', names = Columnes)\n",
    "\n",
    "Boston_df"
   ]
  },
  {
   "cell_type": "markdown",
   "id": "8c451c35",
   "metadata": {},
   "source": [
    "------------------------------------------------------------------------------------------------------------------------------------------------------------------------------------------------------------------------------------------------------------------------------------------------------------------------------------------------------------------------------------------------"
   ]
  },
  {
   "cell_type": "markdown",
   "id": "8832e9cc",
   "metadata": {},
   "source": [
    "### Model 1: Regressió lineal amb 'Statsmodels'\n"
   ]
  },
  {
   "cell_type": "code",
   "execution_count": 102,
   "id": "c920dce5",
   "metadata": {},
   "outputs": [
    {
     "name": "stdout",
     "output_type": "stream",
     "text": [
      "        CRIM    ZN  INDUS  CHAS    NOX     RM   AGE     DIS  RAD    TAX  \\\n",
      "0    0.00632  18.0   2.31     0  0.538  6.575  65.2  4.0900    1  296.0   \n",
      "1    0.02731   0.0   7.07     0  0.469  6.421  78.9  4.9671    2  242.0   \n",
      "2    0.02729   0.0   7.07     0  0.469  7.185  61.1  4.9671    2  242.0   \n",
      "3    0.03237   0.0   2.18     0  0.458  6.998  45.8  6.0622    3  222.0   \n",
      "4    0.06905   0.0   2.18     0  0.458  7.147  54.2  6.0622    3  222.0   \n",
      "..       ...   ...    ...   ...    ...    ...   ...     ...  ...    ...   \n",
      "501  0.06263   0.0  11.93     0  0.573  6.593  69.1  2.4786    1  273.0   \n",
      "502  0.04527   0.0  11.93     0  0.573  6.120  76.7  2.2875    1  273.0   \n",
      "503  0.06076   0.0  11.93     0  0.573  6.976  91.0  2.1675    1  273.0   \n",
      "504  0.10959   0.0  11.93     0  0.573  6.794  89.3  2.3889    1  273.0   \n",
      "505  0.04741   0.0  11.93     0  0.573  6.030  80.8  2.5050    1  273.0   \n",
      "\n",
      "     PTRATIO       B  LSTAT  \n",
      "0       15.3  396.90   4.98  \n",
      "1       17.8  396.90   9.14  \n",
      "2       17.8  392.83   4.03  \n",
      "3       18.7  394.63   2.94  \n",
      "4       18.7  396.90   5.33  \n",
      "..       ...     ...    ...  \n",
      "501     21.0  391.99   9.67  \n",
      "502     21.0  396.90   9.08  \n",
      "503     21.0  396.90   5.64  \n",
      "504     21.0  393.45   6.48  \n",
      "505     21.0  396.90   7.88  \n",
      "\n",
      "[506 rows x 13 columns]\n",
      "0      24.0\n",
      "1      21.6\n",
      "2      34.7\n",
      "3      33.4\n",
      "4      36.2\n",
      "       ... \n",
      "501    22.4\n",
      "502    20.6\n",
      "503    23.9\n",
      "504    22.0\n",
      "505    11.9\n",
      "Name: MEDV, Length: 506, dtype: float64\n"
     ]
    }
   ],
   "source": [
    "# Definim les variables independents (feature_names) i la variable depenent (objectiu / target)\n",
    "\n",
    "variables = Boston_df.drop('MEDV', axis = 1)\n",
    "objectiu = Boston_df['MEDV']\n",
    "\n",
    "print(variables)\n",
    "print(objectiu)"
   ]
  },
  {
   "cell_type": "code",
   "execution_count": 103,
   "id": "a7e47e84",
   "metadata": {},
   "outputs": [
    {
     "data": {
      "text/html": [
       "<table class=\"simpletable\">\n",
       "<caption>OLS Regression Results</caption>\n",
       "<tr>\n",
       "  <th>Dep. Variable:</th>          <td>MEDV</td>       <th>  R-squared (uncentered):</th>      <td>   0.959</td>\n",
       "</tr>\n",
       "<tr>\n",
       "  <th>Model:</th>                   <td>OLS</td>       <th>  Adj. R-squared (uncentered):</th> <td>   0.958</td>\n",
       "</tr>\n",
       "<tr>\n",
       "  <th>Method:</th>             <td>Least Squares</td>  <th>  F-statistic:       </th>          <td>   891.3</td>\n",
       "</tr>\n",
       "<tr>\n",
       "  <th>Date:</th>             <td>Thu, 23 Mar 2023</td> <th>  Prob (F-statistic):</th>           <td>  0.00</td> \n",
       "</tr>\n",
       "<tr>\n",
       "  <th>Time:</th>                 <td>00:46:03</td>     <th>  Log-Likelihood:    </th>          <td> -1523.8</td>\n",
       "</tr>\n",
       "<tr>\n",
       "  <th>No. Observations:</th>      <td>   506</td>      <th>  AIC:               </th>          <td>   3074.</td>\n",
       "</tr>\n",
       "<tr>\n",
       "  <th>Df Residuals:</th>          <td>   493</td>      <th>  BIC:               </th>          <td>   3128.</td>\n",
       "</tr>\n",
       "<tr>\n",
       "  <th>Df Model:</th>              <td>    13</td>      <th>                     </th>              <td> </td>   \n",
       "</tr>\n",
       "<tr>\n",
       "  <th>Covariance Type:</th>      <td>nonrobust</td>    <th>                     </th>              <td> </td>   \n",
       "</tr>\n",
       "</table>\n",
       "<table class=\"simpletable\">\n",
       "<tr>\n",
       "     <td></td>        <th>coef</th>     <th>std err</th>      <th>t</th>      <th>P>|t|</th>  <th>[0.025</th>    <th>0.975]</th>  \n",
       "</tr>\n",
       "<tr>\n",
       "  <th>CRIM</th>    <td>   -0.0929</td> <td>    0.034</td> <td>   -2.699</td> <td> 0.007</td> <td>   -0.161</td> <td>   -0.025</td>\n",
       "</tr>\n",
       "<tr>\n",
       "  <th>ZN</th>      <td>    0.0487</td> <td>    0.014</td> <td>    3.382</td> <td> 0.001</td> <td>    0.020</td> <td>    0.077</td>\n",
       "</tr>\n",
       "<tr>\n",
       "  <th>INDUS</th>   <td>   -0.0041</td> <td>    0.064</td> <td>   -0.063</td> <td> 0.950</td> <td>   -0.131</td> <td>    0.123</td>\n",
       "</tr>\n",
       "<tr>\n",
       "  <th>CHAS</th>    <td>    2.8540</td> <td>    0.904</td> <td>    3.157</td> <td> 0.002</td> <td>    1.078</td> <td>    4.630</td>\n",
       "</tr>\n",
       "<tr>\n",
       "  <th>NOX</th>     <td>   -2.8684</td> <td>    3.359</td> <td>   -0.854</td> <td> 0.394</td> <td>   -9.468</td> <td>    3.731</td>\n",
       "</tr>\n",
       "<tr>\n",
       "  <th>RM</th>      <td>    5.9281</td> <td>    0.309</td> <td>   19.178</td> <td> 0.000</td> <td>    5.321</td> <td>    6.535</td>\n",
       "</tr>\n",
       "<tr>\n",
       "  <th>AGE</th>     <td>   -0.0073</td> <td>    0.014</td> <td>   -0.526</td> <td> 0.599</td> <td>   -0.034</td> <td>    0.020</td>\n",
       "</tr>\n",
       "<tr>\n",
       "  <th>DIS</th>     <td>   -0.9685</td> <td>    0.196</td> <td>   -4.951</td> <td> 0.000</td> <td>   -1.353</td> <td>   -0.584</td>\n",
       "</tr>\n",
       "<tr>\n",
       "  <th>RAD</th>     <td>    0.1712</td> <td>    0.067</td> <td>    2.564</td> <td> 0.011</td> <td>    0.040</td> <td>    0.302</td>\n",
       "</tr>\n",
       "<tr>\n",
       "  <th>TAX</th>     <td>   -0.0094</td> <td>    0.004</td> <td>   -2.395</td> <td> 0.017</td> <td>   -0.017</td> <td>   -0.002</td>\n",
       "</tr>\n",
       "<tr>\n",
       "  <th>PTRATIO</th> <td>   -0.3922</td> <td>    0.110</td> <td>   -3.570</td> <td> 0.000</td> <td>   -0.608</td> <td>   -0.176</td>\n",
       "</tr>\n",
       "<tr>\n",
       "  <th>B</th>       <td>    0.0149</td> <td>    0.003</td> <td>    5.528</td> <td> 0.000</td> <td>    0.010</td> <td>    0.020</td>\n",
       "</tr>\n",
       "<tr>\n",
       "  <th>LSTAT</th>   <td>   -0.4163</td> <td>    0.051</td> <td>   -8.197</td> <td> 0.000</td> <td>   -0.516</td> <td>   -0.317</td>\n",
       "</tr>\n",
       "</table>\n",
       "<table class=\"simpletable\">\n",
       "<tr>\n",
       "  <th>Omnibus:</th>       <td>204.082</td> <th>  Durbin-Watson:     </th> <td>   0.999</td> \n",
       "</tr>\n",
       "<tr>\n",
       "  <th>Prob(Omnibus):</th> <td> 0.000</td>  <th>  Jarque-Bera (JB):  </th> <td>1374.225</td> \n",
       "</tr>\n",
       "<tr>\n",
       "  <th>Skew:</th>          <td> 1.609</td>  <th>  Prob(JB):          </th> <td>3.90e-299</td>\n",
       "</tr>\n",
       "<tr>\n",
       "  <th>Kurtosis:</th>      <td>10.404</td>  <th>  Cond. No.          </th> <td>8.50e+03</td> \n",
       "</tr>\n",
       "</table><br/><br/>Notes:<br/>[1] R² is computed without centering (uncentered) since the model does not contain a constant.<br/>[2] Standard Errors assume that the covariance matrix of the errors is correctly specified.<br/>[3] The condition number is large, 8.5e+03. This might indicate that there are<br/>strong multicollinearity or other numerical problems."
      ],
      "text/plain": [
       "<class 'statsmodels.iolib.summary.Summary'>\n",
       "\"\"\"\n",
       "                                 OLS Regression Results                                \n",
       "=======================================================================================\n",
       "Dep. Variable:                   MEDV   R-squared (uncentered):                   0.959\n",
       "Model:                            OLS   Adj. R-squared (uncentered):              0.958\n",
       "Method:                 Least Squares   F-statistic:                              891.3\n",
       "Date:                Thu, 23 Mar 2023   Prob (F-statistic):                        0.00\n",
       "Time:                        00:46:03   Log-Likelihood:                         -1523.8\n",
       "No. Observations:                 506   AIC:                                      3074.\n",
       "Df Residuals:                     493   BIC:                                      3128.\n",
       "Df Model:                          13                                                  \n",
       "Covariance Type:            nonrobust                                                  \n",
       "==============================================================================\n",
       "                 coef    std err          t      P>|t|      [0.025      0.975]\n",
       "------------------------------------------------------------------------------\n",
       "CRIM          -0.0929      0.034     -2.699      0.007      -0.161      -0.025\n",
       "ZN             0.0487      0.014      3.382      0.001       0.020       0.077\n",
       "INDUS         -0.0041      0.064     -0.063      0.950      -0.131       0.123\n",
       "CHAS           2.8540      0.904      3.157      0.002       1.078       4.630\n",
       "NOX           -2.8684      3.359     -0.854      0.394      -9.468       3.731\n",
       "RM             5.9281      0.309     19.178      0.000       5.321       6.535\n",
       "AGE           -0.0073      0.014     -0.526      0.599      -0.034       0.020\n",
       "DIS           -0.9685      0.196     -4.951      0.000      -1.353      -0.584\n",
       "RAD            0.1712      0.067      2.564      0.011       0.040       0.302\n",
       "TAX           -0.0094      0.004     -2.395      0.017      -0.017      -0.002\n",
       "PTRATIO       -0.3922      0.110     -3.570      0.000      -0.608      -0.176\n",
       "B              0.0149      0.003      5.528      0.000       0.010       0.020\n",
       "LSTAT         -0.4163      0.051     -8.197      0.000      -0.516      -0.317\n",
       "==============================================================================\n",
       "Omnibus:                      204.082   Durbin-Watson:                   0.999\n",
       "Prob(Omnibus):                  0.000   Jarque-Bera (JB):             1374.225\n",
       "Skew:                           1.609   Prob(JB):                    3.90e-299\n",
       "Kurtosis:                      10.404   Cond. No.                     8.50e+03\n",
       "==============================================================================\n",
       "\n",
       "Notes:\n",
       "[1] R² is computed without centering (uncentered) since the model does not contain a constant.\n",
       "[2] Standard Errors assume that the covariance matrix of the errors is correctly specified.\n",
       "[3] The condition number is large, 8.5e+03. This might indicate that there are\n",
       "strong multicollinearity or other numerical problems.\n",
       "\"\"\""
      ]
     },
     "execution_count": 103,
     "metadata": {},
     "output_type": "execute_result"
    }
   ],
   "source": [
    "import statsmodels.api as sm\n",
    "\n",
    "# Ajustem el model amb mes d'una variable\n",
    "\n",
    "x = variables[['CRIM', 'ZN', 'INDUS', 'CHAS', 'NOX', 'RM', 'AGE', 'DIS', 'RAD', 'TAX', 'PTRATIO','B', 'LSTAT']]\n",
    "y = objectiu   # ['MEDV']\n",
    "\n",
    "# Calculem\n",
    "\n",
    "model = sm.OLS(y, x).fit() \n",
    "prediccions = model.predict(x)\n",
    "model.summary()"
   ]
  },
  {
   "cell_type": "code",
   "execution_count": 104,
   "id": "0b528577",
   "metadata": {},
   "outputs": [
    {
     "name": "stdout",
     "output_type": "stream",
     "text": [
      "MSE: 24.166099330126496\n"
     ]
    }
   ],
   "source": [
    "# Calculem el MSE:\n",
    "\n",
    "from sklearn.metrics import mean_squared_error\n",
    "import statsmodels.api as sm\n",
    "\n",
    "mse = mean_squared_error(y, prediccions)\n",
    "\n",
    "print(\"MSE:\", mse)"
   ]
  },
  {
   "cell_type": "markdown",
   "id": "dfa914e0",
   "metadata": {},
   "source": [
    "### Comentaris:\n",
    "\n",
    "- El R2 = 0.959 ens indica que el model presenta un bon ajust, que les variables independents están altament relacionades amb la variable depenent.\n",
    "- Probablement obtenim un valor R2 tant elevat perque hem considerat totes les variables independents (13) per generar el model.\n",
    "- En el cas que consideresim variable amb un coeficient de correlació baix com `CRIM' o 'ZN' el valor de R2 sería molt més baix, significant que aquestes variables no están altament relacionades amb la variable depenent.\n",
    "- Observant els ceficients de correlació (coef) podriem intuir quines variables podrien estar més relacionades amb 'MEDV'.\n",
    "- Podriem utilitzar les variables 'RM', 'LSTAT', 'NOX' i/o 'DIS' per predir 'MEDV'"
   ]
  },
  {
   "cell_type": "markdown",
   "id": "874bf973",
   "metadata": {},
   "source": [
    "---------------------------------------------------------------------------------------------------------------------------"
   ]
  },
  {
   "cell_type": "code",
   "execution_count": 105,
   "id": "6b255d01",
   "metadata": {},
   "outputs": [
    {
     "data": {
      "text/plain": [
       "Lasso()"
      ]
     },
     "execution_count": 105,
     "metadata": {},
     "output_type": "execute_result"
    }
   ],
   "source": [
    "# Entrenem el model amb regularització LASSO\n",
    "\n",
    "  # LASSO: especielment utilitzat quan s'espera que, de totes les varibales independents, només siguin rellevants unes poques.   \n",
    "\n",
    "from sklearn.linear_model import Lasso\n",
    "\n",
    "model_lasso_sm = Lasso(alpha=1.0)\n",
    "\n",
    "model_lasso_sm.fit(x, y)"
   ]
  },
  {
   "cell_type": "code",
   "execution_count": 106,
   "id": "c6168474",
   "metadata": {},
   "outputs": [
    {
     "name": "stdout",
     "output_type": "stream",
     "text": [
      "[30.99753918 25.77681736 29.98601449 29.51799813 28.03248999]\n"
     ]
    }
   ],
   "source": [
    "# Prediccions (LASSO):\n",
    "\n",
    "Prediccions_sm_Lasso = model_lasso_sm.predict(x)\n",
    "\n",
    "print(Prediccions_sm_Lasso[:5]) # mostrem els primers 5 valors obtinguts"
   ]
  },
  {
   "cell_type": "code",
   "execution_count": 107,
   "id": "4d2bc955",
   "metadata": {},
   "outputs": [
    {
     "data": {
      "text/plain": [
       "0.6825842212709925"
      ]
     },
     "execution_count": 107,
     "metadata": {},
     "output_type": "execute_result"
    }
   ],
   "source": [
    "# Calculem el R2 (LASSO)\n",
    "\n",
    "model_lasso_sm.score(x,y)"
   ]
  },
  {
   "cell_type": "markdown",
   "id": "6c866adb",
   "metadata": {},
   "source": [
    "### Comentaris:\n",
    "\n",
    "- Al limitar la magnitud dels coeficients del model de regressió pot reduïr l'ajust exceciu del model\n",
    "- En aquest sentit, pot reduir-se la capacitat del model per ajustar-se perfectament a les dades, el que pot comportar una reducció del R2, tal com observem en l'ajust amb LASSO.\n",
    "- No obstant, el fet de tenir una R2 menor no implica necessariament que el model sigui pitjor, sino que s'han de tenir en compte altres aspectes."
   ]
  },
  {
   "cell_type": "markdown",
   "id": "6c7b9144",
   "metadata": {},
   "source": [
    "----------------------------------------------------------------------------------------------------------------------------"
   ]
  },
  {
   "cell_type": "code",
   "execution_count": 108,
   "id": "c027f734",
   "metadata": {},
   "outputs": [
    {
     "name": "stdout",
     "output_type": "stream",
     "text": [
      "Característiques Train_x: (404, 13)\n",
      "Característiques Train_y: (404,)\n",
      "Característiques Test_x: (102, 13)\n",
      "Característiques Test_y: (102,)\n"
     ]
    }
   ],
   "source": [
    "# Fem la partició del conjunt de dades en 'Train' i 'Test'\n",
    "\n",
    "from sklearn.model_selection import train_test_split\n",
    "\n",
    "train_x, test_x, train_y, test_y = train_test_split(x, y, test_size = 0.20,random_state = 42)\n",
    "\n",
    "print('Característiques Train_x:', train_x.shape)\n",
    "print('Característiques Train_y:', train_y.shape)\n",
    "print('Característiques Test_x:', test_x.shape)\n",
    "print('Característiques Test_y:', test_y.shape)\n",
    "\n",
    "# En 'Train' tenim el 80% dels valors (404 files) i en 'Test' el 20% (102 files)\n"
   ]
  },
  {
   "cell_type": "code",
   "execution_count": 109,
   "id": "fa6da501",
   "metadata": {},
   "outputs": [
    {
     "data": {
      "text/html": [
       "<table class=\"simpletable\">\n",
       "<caption>OLS Regression Results</caption>\n",
       "<tr>\n",
       "  <th>Dep. Variable:</th>          <td>MEDV</td>       <th>  R-squared (uncentered):</th>      <td>   0.962</td> \n",
       "</tr>\n",
       "<tr>\n",
       "  <th>Model:</th>                   <td>OLS</td>       <th>  Adj. R-squared (uncentered):</th> <td>   0.960</td> \n",
       "</tr>\n",
       "<tr>\n",
       "  <th>Method:</th>             <td>Least Squares</td>  <th>  F-statistic:       </th>          <td>   755.7</td> \n",
       "</tr>\n",
       "<tr>\n",
       "  <th>Date:</th>             <td>Thu, 23 Mar 2023</td> <th>  Prob (F-statistic):</th>          <td>1.13e-267</td>\n",
       "</tr>\n",
       "<tr>\n",
       "  <th>Time:</th>                 <td>00:46:05</td>     <th>  Log-Likelihood:    </th>          <td> -1208.5</td> \n",
       "</tr>\n",
       "<tr>\n",
       "  <th>No. Observations:</th>      <td>   404</td>      <th>  AIC:               </th>          <td>   2443.</td> \n",
       "</tr>\n",
       "<tr>\n",
       "  <th>Df Residuals:</th>          <td>   391</td>      <th>  BIC:               </th>          <td>   2495.</td> \n",
       "</tr>\n",
       "<tr>\n",
       "  <th>Df Model:</th>              <td>    13</td>      <th>                     </th>              <td> </td>    \n",
       "</tr>\n",
       "<tr>\n",
       "  <th>Covariance Type:</th>      <td>nonrobust</td>    <th>                     </th>              <td> </td>    \n",
       "</tr>\n",
       "</table>\n",
       "<table class=\"simpletable\">\n",
       "<tr>\n",
       "     <td></td>        <th>coef</th>     <th>std err</th>      <th>t</th>      <th>P>|t|</th>  <th>[0.025</th>    <th>0.975]</th>  \n",
       "</tr>\n",
       "<tr>\n",
       "  <th>CRIM</th>    <td>   -0.1005</td> <td>    0.036</td> <td>   -2.799</td> <td> 0.005</td> <td>   -0.171</td> <td>   -0.030</td>\n",
       "</tr>\n",
       "<tr>\n",
       "  <th>ZN</th>      <td>    0.0342</td> <td>    0.017</td> <td>    2.068</td> <td> 0.039</td> <td>    0.002</td> <td>    0.067</td>\n",
       "</tr>\n",
       "<tr>\n",
       "  <th>INDUS</th>   <td>    0.0336</td> <td>    0.070</td> <td>    0.482</td> <td> 0.630</td> <td>   -0.103</td> <td>    0.171</td>\n",
       "</tr>\n",
       "<tr>\n",
       "  <th>CHAS</th>    <td>    2.7397</td> <td>    0.989</td> <td>    2.771</td> <td> 0.006</td> <td>    0.796</td> <td>    4.683</td>\n",
       "</tr>\n",
       "<tr>\n",
       "  <th>NOX</th>     <td>   -5.1551</td> <td>    3.706</td> <td>   -1.391</td> <td> 0.165</td> <td>  -12.440</td> <td>    2.130</td>\n",
       "</tr>\n",
       "<tr>\n",
       "  <th>RM</th>      <td>    6.1960</td> <td>    0.338</td> <td>   18.352</td> <td> 0.000</td> <td>    5.532</td> <td>    6.860</td>\n",
       "</tr>\n",
       "<tr>\n",
       "  <th>AGE</th>     <td>   -0.0111</td> <td>    0.015</td> <td>   -0.737</td> <td> 0.462</td> <td>   -0.041</td> <td>    0.018</td>\n",
       "</tr>\n",
       "<tr>\n",
       "  <th>DIS</th>     <td>   -1.0200</td> <td>    0.218</td> <td>   -4.669</td> <td> 0.000</td> <td>   -1.450</td> <td>   -0.591</td>\n",
       "</tr>\n",
       "<tr>\n",
       "  <th>RAD</th>     <td>    0.1388</td> <td>    0.075</td> <td>    1.855</td> <td> 0.064</td> <td>   -0.008</td> <td>    0.286</td>\n",
       "</tr>\n",
       "<tr>\n",
       "  <th>TAX</th>     <td>   -0.0078</td> <td>    0.004</td> <td>   -1.790</td> <td> 0.074</td> <td>   -0.016</td> <td>    0.001</td>\n",
       "</tr>\n",
       "<tr>\n",
       "  <th>PTRATIO</th> <td>   -0.4541</td> <td>    0.119</td> <td>   -3.815</td> <td> 0.000</td> <td>   -0.688</td> <td>   -0.220</td>\n",
       "</tr>\n",
       "<tr>\n",
       "  <th>B</th>       <td>    0.0168</td> <td>    0.003</td> <td>    5.728</td> <td> 0.000</td> <td>    0.011</td> <td>    0.023</td>\n",
       "</tr>\n",
       "<tr>\n",
       "  <th>LSTAT</th>   <td>   -0.4259</td> <td>    0.055</td> <td>   -7.699</td> <td> 0.000</td> <td>   -0.535</td> <td>   -0.317</td>\n",
       "</tr>\n",
       "</table>\n",
       "<table class=\"simpletable\">\n",
       "<tr>\n",
       "  <th>Omnibus:</th>       <td>154.481</td> <th>  Durbin-Watson:     </th> <td>   2.089</td> \n",
       "</tr>\n",
       "<tr>\n",
       "  <th>Prob(Omnibus):</th> <td> 0.000</td>  <th>  Jarque-Bera (JB):  </th> <td>1082.869</td> \n",
       "</tr>\n",
       "<tr>\n",
       "  <th>Skew:</th>          <td> 1.452</td>  <th>  Prob(JB):          </th> <td>7.21e-236</td>\n",
       "</tr>\n",
       "<tr>\n",
       "  <th>Kurtosis:</th>      <td>10.477</td>  <th>  Cond. No.          </th> <td>8.46e+03</td> \n",
       "</tr>\n",
       "</table><br/><br/>Notes:<br/>[1] R² is computed without centering (uncentered) since the model does not contain a constant.<br/>[2] Standard Errors assume that the covariance matrix of the errors is correctly specified.<br/>[3] The condition number is large, 8.46e+03. This might indicate that there are<br/>strong multicollinearity or other numerical problems."
      ],
      "text/plain": [
       "<class 'statsmodels.iolib.summary.Summary'>\n",
       "\"\"\"\n",
       "                                 OLS Regression Results                                \n",
       "=======================================================================================\n",
       "Dep. Variable:                   MEDV   R-squared (uncentered):                   0.962\n",
       "Model:                            OLS   Adj. R-squared (uncentered):              0.960\n",
       "Method:                 Least Squares   F-statistic:                              755.7\n",
       "Date:                Thu, 23 Mar 2023   Prob (F-statistic):                   1.13e-267\n",
       "Time:                        00:46:05   Log-Likelihood:                         -1208.5\n",
       "No. Observations:                 404   AIC:                                      2443.\n",
       "Df Residuals:                     391   BIC:                                      2495.\n",
       "Df Model:                          13                                                  \n",
       "Covariance Type:            nonrobust                                                  \n",
       "==============================================================================\n",
       "                 coef    std err          t      P>|t|      [0.025      0.975]\n",
       "------------------------------------------------------------------------------\n",
       "CRIM          -0.1005      0.036     -2.799      0.005      -0.171      -0.030\n",
       "ZN             0.0342      0.017      2.068      0.039       0.002       0.067\n",
       "INDUS          0.0336      0.070      0.482      0.630      -0.103       0.171\n",
       "CHAS           2.7397      0.989      2.771      0.006       0.796       4.683\n",
       "NOX           -5.1551      3.706     -1.391      0.165     -12.440       2.130\n",
       "RM             6.1960      0.338     18.352      0.000       5.532       6.860\n",
       "AGE           -0.0111      0.015     -0.737      0.462      -0.041       0.018\n",
       "DIS           -1.0200      0.218     -4.669      0.000      -1.450      -0.591\n",
       "RAD            0.1388      0.075      1.855      0.064      -0.008       0.286\n",
       "TAX           -0.0078      0.004     -1.790      0.074      -0.016       0.001\n",
       "PTRATIO       -0.4541      0.119     -3.815      0.000      -0.688      -0.220\n",
       "B              0.0168      0.003      5.728      0.000       0.011       0.023\n",
       "LSTAT         -0.4259      0.055     -7.699      0.000      -0.535      -0.317\n",
       "==============================================================================\n",
       "Omnibus:                      154.481   Durbin-Watson:                   2.089\n",
       "Prob(Omnibus):                  0.000   Jarque-Bera (JB):             1082.869\n",
       "Skew:                           1.452   Prob(JB):                    7.21e-236\n",
       "Kurtosis:                      10.477   Cond. No.                     8.46e+03\n",
       "==============================================================================\n",
       "\n",
       "Notes:\n",
       "[1] R² is computed without centering (uncentered) since the model does not contain a constant.\n",
       "[2] Standard Errors assume that the covariance matrix of the errors is correctly specified.\n",
       "[3] The condition number is large, 8.46e+03. This might indicate that there are\n",
       "strong multicollinearity or other numerical problems.\n",
       "\"\"\""
      ]
     },
     "execution_count": 109,
     "metadata": {},
     "output_type": "execute_result"
    }
   ],
   "source": [
    "import statsmodels.api as sm\n",
    "\n",
    "# Ajustem el model 'Train' amb mes d'una variable\n",
    "\n",
    "Ajust_train_x = train_x [['CRIM', 'ZN', 'INDUS', 'CHAS', 'NOX', 'RM', 'AGE', 'DIS', 'RAD', 'TAX', 'PTRATIO','B', 'LSTAT']]\n",
    "Ajust_train_y = train_y   # ['MEDV']\n",
    "\n",
    "# Calculem model 'Train'\n",
    "\n",
    "model = sm.OLS(Ajust_train_y, Ajust_train_x).fit() \n",
    "prediccions = model.predict(Ajust_train_x)\n",
    "model.summary()"
   ]
  },
  {
   "cell_type": "code",
   "execution_count": 110,
   "id": "4cb55b5d",
   "metadata": {},
   "outputs": [
    {
     "data": {
      "text/html": [
       "<table class=\"simpletable\">\n",
       "<caption>OLS Regression Results</caption>\n",
       "<tr>\n",
       "  <th>Dep. Variable:</th>          <td>MEDV</td>       <th>  R-squared (uncentered):</th>      <td>   0.955</td>\n",
       "</tr>\n",
       "<tr>\n",
       "  <th>Model:</th>                   <td>OLS</td>       <th>  Adj. R-squared (uncentered):</th> <td>   0.949</td>\n",
       "</tr>\n",
       "<tr>\n",
       "  <th>Method:</th>             <td>Least Squares</td>  <th>  F-statistic:       </th>          <td>   146.1</td>\n",
       "</tr>\n",
       "<tr>\n",
       "  <th>Date:</th>             <td>Thu, 23 Mar 2023</td> <th>  Prob (F-statistic):</th>          <td>4.35e-54</td>\n",
       "</tr>\n",
       "<tr>\n",
       "  <th>Time:</th>                 <td>00:46:06</td>     <th>  Log-Likelihood:    </th>          <td> -306.72</td>\n",
       "</tr>\n",
       "<tr>\n",
       "  <th>No. Observations:</th>      <td>   102</td>      <th>  AIC:               </th>          <td>   639.4</td>\n",
       "</tr>\n",
       "<tr>\n",
       "  <th>Df Residuals:</th>          <td>    89</td>      <th>  BIC:               </th>          <td>   673.6</td>\n",
       "</tr>\n",
       "<tr>\n",
       "  <th>Df Model:</th>              <td>    13</td>      <th>                     </th>              <td> </td>   \n",
       "</tr>\n",
       "<tr>\n",
       "  <th>Covariance Type:</th>      <td>nonrobust</td>    <th>                     </th>              <td> </td>   \n",
       "</tr>\n",
       "</table>\n",
       "<table class=\"simpletable\">\n",
       "<tr>\n",
       "     <td></td>        <th>coef</th>     <th>std err</th>      <th>t</th>      <th>P>|t|</th>  <th>[0.025</th>    <th>0.975]</th>  \n",
       "</tr>\n",
       "<tr>\n",
       "  <th>CRIM</th>    <td>   -0.0773</td> <td>    0.123</td> <td>   -0.630</td> <td> 0.531</td> <td>   -0.321</td> <td>    0.167</td>\n",
       "</tr>\n",
       "<tr>\n",
       "  <th>ZN</th>      <td>    0.1024</td> <td>    0.031</td> <td>    3.260</td> <td> 0.002</td> <td>    0.040</td> <td>    0.165</td>\n",
       "</tr>\n",
       "<tr>\n",
       "  <th>INDUS</th>   <td>   -0.1357</td> <td>    0.175</td> <td>   -0.776</td> <td> 0.440</td> <td>   -0.483</td> <td>    0.212</td>\n",
       "</tr>\n",
       "<tr>\n",
       "  <th>CHAS</th>    <td>    3.5859</td> <td>    2.375</td> <td>    1.510</td> <td> 0.135</td> <td>   -1.133</td> <td>    8.304</td>\n",
       "</tr>\n",
       "<tr>\n",
       "  <th>NOX</th>     <td>    4.1738</td> <td>    9.027</td> <td>    0.462</td> <td> 0.645</td> <td>  -13.762</td> <td>   22.110</td>\n",
       "</tr>\n",
       "<tr>\n",
       "  <th>RM</th>      <td>    4.6533</td> <td>    0.777</td> <td>    5.986</td> <td> 0.000</td> <td>    3.109</td> <td>    6.198</td>\n",
       "</tr>\n",
       "<tr>\n",
       "  <th>AGE</th>     <td>   -0.0139</td> <td>    0.039</td> <td>   -0.358</td> <td> 0.721</td> <td>   -0.091</td> <td>    0.063</td>\n",
       "</tr>\n",
       "<tr>\n",
       "  <th>DIS</th>     <td>   -0.8409</td> <td>    0.477</td> <td>   -1.763</td> <td> 0.081</td> <td>   -1.788</td> <td>    0.107</td>\n",
       "</tr>\n",
       "<tr>\n",
       "  <th>RAD</th>     <td>    0.2129</td> <td>    0.160</td> <td>    1.333</td> <td> 0.186</td> <td>   -0.105</td> <td>    0.530</td>\n",
       "</tr>\n",
       "<tr>\n",
       "  <th>TAX</th>     <td>   -0.0096</td> <td>    0.010</td> <td>   -0.949</td> <td> 0.345</td> <td>   -0.030</td> <td>    0.011</td>\n",
       "</tr>\n",
       "<tr>\n",
       "  <th>PTRATIO</th> <td>   -0.0775</td> <td>    0.314</td> <td>   -0.247</td> <td> 0.805</td> <td>   -0.701</td> <td>    0.546</td>\n",
       "</tr>\n",
       "<tr>\n",
       "  <th>B</th>       <td>    0.0093</td> <td>    0.007</td> <td>    1.370</td> <td> 0.174</td> <td>   -0.004</td> <td>    0.023</td>\n",
       "</tr>\n",
       "<tr>\n",
       "  <th>LSTAT</th>   <td>   -0.3602</td> <td>    0.151</td> <td>   -2.390</td> <td> 0.019</td> <td>   -0.660</td> <td>   -0.061</td>\n",
       "</tr>\n",
       "</table>\n",
       "<table class=\"simpletable\">\n",
       "<tr>\n",
       "  <th>Omnibus:</th>       <td>64.821</td> <th>  Durbin-Watson:     </th> <td>   1.693</td>\n",
       "</tr>\n",
       "<tr>\n",
       "  <th>Prob(Omnibus):</th> <td> 0.000</td> <th>  Jarque-Bera (JB):  </th> <td> 394.272</td>\n",
       "</tr>\n",
       "<tr>\n",
       "  <th>Skew:</th>          <td> 1.987</td> <th>  Prob(JB):          </th> <td>2.43e-86</td>\n",
       "</tr>\n",
       "<tr>\n",
       "  <th>Kurtosis:</th>      <td>11.773</td> <th>  Cond. No.          </th> <td>1.00e+04</td>\n",
       "</tr>\n",
       "</table><br/><br/>Notes:<br/>[1] R² is computed without centering (uncentered) since the model does not contain a constant.<br/>[2] Standard Errors assume that the covariance matrix of the errors is correctly specified.<br/>[3] The condition number is large,  1e+04. This might indicate that there are<br/>strong multicollinearity or other numerical problems."
      ],
      "text/plain": [
       "<class 'statsmodels.iolib.summary.Summary'>\n",
       "\"\"\"\n",
       "                                 OLS Regression Results                                \n",
       "=======================================================================================\n",
       "Dep. Variable:                   MEDV   R-squared (uncentered):                   0.955\n",
       "Model:                            OLS   Adj. R-squared (uncentered):              0.949\n",
       "Method:                 Least Squares   F-statistic:                              146.1\n",
       "Date:                Thu, 23 Mar 2023   Prob (F-statistic):                    4.35e-54\n",
       "Time:                        00:46:06   Log-Likelihood:                         -306.72\n",
       "No. Observations:                 102   AIC:                                      639.4\n",
       "Df Residuals:                      89   BIC:                                      673.6\n",
       "Df Model:                          13                                                  \n",
       "Covariance Type:            nonrobust                                                  \n",
       "==============================================================================\n",
       "                 coef    std err          t      P>|t|      [0.025      0.975]\n",
       "------------------------------------------------------------------------------\n",
       "CRIM          -0.0773      0.123     -0.630      0.531      -0.321       0.167\n",
       "ZN             0.1024      0.031      3.260      0.002       0.040       0.165\n",
       "INDUS         -0.1357      0.175     -0.776      0.440      -0.483       0.212\n",
       "CHAS           3.5859      2.375      1.510      0.135      -1.133       8.304\n",
       "NOX            4.1738      9.027      0.462      0.645     -13.762      22.110\n",
       "RM             4.6533      0.777      5.986      0.000       3.109       6.198\n",
       "AGE           -0.0139      0.039     -0.358      0.721      -0.091       0.063\n",
       "DIS           -0.8409      0.477     -1.763      0.081      -1.788       0.107\n",
       "RAD            0.2129      0.160      1.333      0.186      -0.105       0.530\n",
       "TAX           -0.0096      0.010     -0.949      0.345      -0.030       0.011\n",
       "PTRATIO       -0.0775      0.314     -0.247      0.805      -0.701       0.546\n",
       "B              0.0093      0.007      1.370      0.174      -0.004       0.023\n",
       "LSTAT         -0.3602      0.151     -2.390      0.019      -0.660      -0.061\n",
       "==============================================================================\n",
       "Omnibus:                       64.821   Durbin-Watson:                   1.693\n",
       "Prob(Omnibus):                  0.000   Jarque-Bera (JB):              394.272\n",
       "Skew:                           1.987   Prob(JB):                     2.43e-86\n",
       "Kurtosis:                      11.773   Cond. No.                     1.00e+04\n",
       "==============================================================================\n",
       "\n",
       "Notes:\n",
       "[1] R² is computed without centering (uncentered) since the model does not contain a constant.\n",
       "[2] Standard Errors assume that the covariance matrix of the errors is correctly specified.\n",
       "[3] The condition number is large,  1e+04. This might indicate that there are\n",
       "strong multicollinearity or other numerical problems.\n",
       "\"\"\""
      ]
     },
     "execution_count": 110,
     "metadata": {},
     "output_type": "execute_result"
    }
   ],
   "source": [
    "import statsmodels.api as sm\n",
    "\n",
    "# Ajustem el model 'Test' amb mes d'una variable\n",
    "\n",
    "Ajust_test_x = test_x [['CRIM', 'ZN', 'INDUS', 'CHAS', 'NOX', 'RM', 'AGE', 'DIS', 'RAD', 'TAX', 'PTRATIO','B', 'LSTAT']]\n",
    "Ajust_test_y = test_y   # ['MEDV']\n",
    "\n",
    "# Calculem model 'Test'\n",
    "\n",
    "model = sm.OLS(Ajust_test_y, Ajust_test_x).fit() \n",
    "prediccions = model.predict(Ajust_test_x)\n",
    "model.summary()"
   ]
  },
  {
   "cell_type": "code",
   "execution_count": 111,
   "id": "f1555337",
   "metadata": {},
   "outputs": [
    {
     "name": "stdout",
     "output_type": "stream",
     "text": [
      "El valor estimat de 'MEDV' és: 24.136640866441716\n"
     ]
    }
   ],
   "source": [
    "# Prediccions en funció de la variable 'LSTAT' (REGRESSIÓ LINEAL - StatsModel)\n",
    "\n",
    "import numpy as np\n",
    "\n",
    "# Indiquem el valor de la variable 'LSTAT' per fer la predicció de 'MEDV'\n",
    "lstat_value = 8 \n",
    "\n",
    "# Indiquem la posició de la variable 'LSTAT' al dataframe incial\n",
    "lstat_index = 12\n",
    "\n",
    "# Calculem les mitjanes per a cada una de les variables\n",
    "mean_values = x.mean(axis=0)\n",
    "\n",
    "# Generem una array de '0' amb la mateixa forma del model (analitzat)\n",
    "array_0 = np.zeros((len(x), 13))\n",
    "\n",
    "# Indiquem el valor de 'LSTAT' per predir 'MEDV'\n",
    "array_0[:, lstat_index] = lstat_value\n",
    "\n",
    "#Indiequem les mitjanes\n",
    "for i in range(array_0.shape[1]):\n",
    "    if i != lstat_index:\n",
    "        array_0[:, i] = mean_values[i]\n",
    "\n",
    "# Fem la predicció utilitzant el model inicial de Regressio Lineal\n",
    "predicted_value = model.predict(array_0)\n",
    "\n",
    "# Generem el valor estiamt de 'MEDV'\n",
    "print(\"El valor estimat de 'MEDV' és:\", predicted_value[0])"
   ]
  },
  {
   "cell_type": "code",
   "execution_count": 112,
   "id": "dd7b9e41",
   "metadata": {},
   "outputs": [
    {
     "name": "stdout",
     "output_type": "stream",
     "text": [
      "El valor estimat de 'MEDV' és: 26.07432039742614\n"
     ]
    },
    {
     "name": "stderr",
     "output_type": "stream",
     "text": [
      "C:\\Users\\RSIMONNE\\Anaconda3\\lib\\site-packages\\sklearn\\base.py:450: UserWarning: X does not have valid feature names, but Lasso was fitted with feature names\n",
      "  warnings.warn(\n"
     ]
    }
   ],
   "source": [
    "# Prediccions en funció de la variable 'LSTAT' (LASSO - StatsModel)\n",
    "\n",
    "import numpy as np\n",
    "\n",
    "# Indiquem el valor de la variable 'LSTAT' per fer la predicció de 'MEDV'\n",
    "lstat_value = 8 \n",
    "\n",
    "# Indiquem la posició de la variable 'LSTAT' al dataframe incial\n",
    "lstat_index = 12\n",
    "\n",
    "# Calculem les mitjanes per a cada una de les variables\n",
    "mean_values = x.mean(axis=0)\n",
    "\n",
    "# Generem una array de '0' amb la mateixa forma del model (analitzat)\n",
    "array_0 = np.zeros((len(x), 13))\n",
    "\n",
    "# Indiquem el valor de 'LSTAT' per predir 'MEDV'\n",
    "array_0[:, lstat_index] = lstat_value\n",
    "\n",
    "#Indiequem les mitjanes\n",
    "for i in range(array_0.shape[1]):\n",
    "    if i != lstat_index:\n",
    "        array_0[:, i] = mean_values[i]\n",
    "\n",
    "# Fem la predicció utilitzant el model inicial de Regressio Lineal\n",
    "predicted_value = model_lasso_sm.predict(array_0)\n",
    "\n",
    "# Generem el valor estiamt de 'MEDV'\n",
    "print(\"El valor estimat de 'MEDV' és:\", predicted_value[0])"
   ]
  },
  {
   "cell_type": "markdown",
   "id": "574d17d0",
   "metadata": {},
   "source": [
    "--------------------------------------------------------------------------------------------------------------------------\n",
    "--------------------------------------------------------------------------------------------------------------------------\n",
    "--------------------------------------------------------------------------------------------------------------------------"
   ]
  },
  {
   "cell_type": "markdown",
   "id": "bf4ff612",
   "metadata": {},
   "source": [
    "### Model 2: Regressió lineal amb SKLearn"
   ]
  },
  {
   "cell_type": "code",
   "execution_count": 113,
   "id": "cff3b046",
   "metadata": {},
   "outputs": [
    {
     "name": "stdout",
     "output_type": "stream",
     "text": [
      "        CRIM    ZN  INDUS  CHAS    NOX     RM   AGE     DIS  RAD    TAX  \\\n",
      "0    0.00632  18.0   2.31     0  0.538  6.575  65.2  4.0900    1  296.0   \n",
      "1    0.02731   0.0   7.07     0  0.469  6.421  78.9  4.9671    2  242.0   \n",
      "2    0.02729   0.0   7.07     0  0.469  7.185  61.1  4.9671    2  242.0   \n",
      "3    0.03237   0.0   2.18     0  0.458  6.998  45.8  6.0622    3  222.0   \n",
      "4    0.06905   0.0   2.18     0  0.458  7.147  54.2  6.0622    3  222.0   \n",
      "..       ...   ...    ...   ...    ...    ...   ...     ...  ...    ...   \n",
      "501  0.06263   0.0  11.93     0  0.573  6.593  69.1  2.4786    1  273.0   \n",
      "502  0.04527   0.0  11.93     0  0.573  6.120  76.7  2.2875    1  273.0   \n",
      "503  0.06076   0.0  11.93     0  0.573  6.976  91.0  2.1675    1  273.0   \n",
      "504  0.10959   0.0  11.93     0  0.573  6.794  89.3  2.3889    1  273.0   \n",
      "505  0.04741   0.0  11.93     0  0.573  6.030  80.8  2.5050    1  273.0   \n",
      "\n",
      "     PTRATIO       B  LSTAT  \n",
      "0       15.3  396.90   4.98  \n",
      "1       17.8  396.90   9.14  \n",
      "2       17.8  392.83   4.03  \n",
      "3       18.7  394.63   2.94  \n",
      "4       18.7  396.90   5.33  \n",
      "..       ...     ...    ...  \n",
      "501     21.0  391.99   9.67  \n",
      "502     21.0  396.90   9.08  \n",
      "503     21.0  396.90   5.64  \n",
      "504     21.0  393.45   6.48  \n",
      "505     21.0  396.90   7.88  \n",
      "\n",
      "[506 rows x 13 columns]\n",
      "0      24.0\n",
      "1      21.6\n",
      "2      34.7\n",
      "3      33.4\n",
      "4      36.2\n",
      "       ... \n",
      "501    22.4\n",
      "502    20.6\n",
      "503    23.9\n",
      "504    22.0\n",
      "505    11.9\n",
      "Name: MEDV, Length: 506, dtype: float64\n"
     ]
    }
   ],
   "source": [
    "from sklearn import linear_model\n",
    "\n",
    "# Definim les variables independents (feature_names) i la variable depenent (objectiu / target)\n",
    "\n",
    "variables = Boston_df.drop('MEDV', axis = 1)\n",
    "objectiu = Boston_df['MEDV']\n",
    "\n",
    "print(variables)\n",
    "print(objectiu)\n"
   ]
  },
  {
   "cell_type": "code",
   "execution_count": 114,
   "id": "d7aa63f3",
   "metadata": {},
   "outputs": [],
   "source": [
    "# Ajustem el model\n",
    "\n",
    "x2 = variables\n",
    "y2 = objectiu\n",
    "\n",
    "Regressio_lineal = linear_model.LinearRegression()\n",
    "model_skl = Regressio_lineal.fit(x2,y2)\n"
   ]
  },
  {
   "cell_type": "code",
   "execution_count": 115,
   "id": "2e86c81f",
   "metadata": {},
   "outputs": [
    {
     "name": "stdout",
     "output_type": "stream",
     "text": [
      "[30.00384338 25.02556238 30.56759672 28.60703649 27.94352423]\n"
     ]
    }
   ],
   "source": [
    "# Prediccions:\n",
    "\n",
    "Prediccions_SKL = Regressio_lineal.predict(x2)\n",
    "\n",
    "print(Prediccions_SKL[:5]) # mostrem els primers 5 valors obtinguts"
   ]
  },
  {
   "cell_type": "code",
   "execution_count": 116,
   "id": "08f82e9e",
   "metadata": {},
   "outputs": [
    {
     "data": {
      "text/plain": [
       "0.7406426641094095"
      ]
     },
     "execution_count": 116,
     "metadata": {},
     "output_type": "execute_result"
    }
   ],
   "source": [
    "# Calculem el R2\n",
    "\n",
    "Regressio_lineal.score(x2,y2)"
   ]
  },
  {
   "cell_type": "code",
   "execution_count": 117,
   "id": "33016742",
   "metadata": {},
   "outputs": [
    {
     "data": {
      "text/plain": [
       "array([-1.08011358e-01,  4.64204584e-02,  2.05586264e-02,  2.68673382e+00,\n",
       "       -1.77666112e+01,  3.80986521e+00,  6.92224640e-04, -1.47556685e+00,\n",
       "        3.06049479e-01, -1.23345939e-02, -9.52747232e-01,  9.31168327e-03,\n",
       "       -5.24758378e-01])"
      ]
     },
     "execution_count": 117,
     "metadata": {},
     "output_type": "execute_result"
    }
   ],
   "source": [
    "# Calculem el coeficient de correlació:\n",
    "\n",
    "Regressio_lineal.coef_"
   ]
  },
  {
   "cell_type": "code",
   "execution_count": 118,
   "id": "32c5f51b",
   "metadata": {},
   "outputs": [
    {
     "data": {
      "text/plain": [
       "36.45948838509015"
      ]
     },
     "execution_count": 118,
     "metadata": {},
     "output_type": "execute_result"
    }
   ],
   "source": [
    "# Calculem la intercepció (intercept): valor de la variable depentent (y) quan el valor de les variables indepentents (x) és igual a '0' \n",
    "\n",
    "Regressio_lineal.intercept_"
   ]
  },
  {
   "cell_type": "code",
   "execution_count": 119,
   "id": "2ee61cd8",
   "metadata": {},
   "outputs": [
    {
     "name": "stdout",
     "output_type": "stream",
     "text": [
      "MSE: 21.894831181729202\n"
     ]
    }
   ],
   "source": [
    " # Calculem el MSE\n",
    "    \n",
    "from sklearn.metrics import mean_squared_error\n",
    "import statsmodels.api as sm\n",
    "\n",
    "mse = mean_squared_error(y2, Prediccions_SKL)\n",
    "\n",
    "print(\"MSE:\", mse)"
   ]
  },
  {
   "cell_type": "markdown",
   "id": "a72ec5ab",
   "metadata": {},
   "source": [
    "### Comentaris:\n",
    "\n",
    "- En aqest cas obtenim un R2 = 0.74. Es una mica mes baix que amb el model anterior, però podriem determinar que te un cert ajust.\n",
    "- Com en el cas anterior, si ajustessim el model amb variables independents amb coeficient de correlació baixos, probablement el valor R2 disminuiria.\n",
    "- Observant els ceficients de correlació (coef) podriem intuir quines variables podrien estar més relacionades amb 'MEDV'.\n",
    "- En aquest cas també podrien ser la columna [5] 'RM', la columa [4] 'NOX' i/o la columna [7] 'LSTAT'"
   ]
  },
  {
   "cell_type": "markdown",
   "id": "d3e4d9b3",
   "metadata": {},
   "source": [
    "--------------------------------------------------------------------------------------------------------------------------------"
   ]
  },
  {
   "cell_type": "code",
   "execution_count": 120,
   "id": "865c1720",
   "metadata": {},
   "outputs": [
    {
     "data": {
      "text/plain": [
       "Lasso()"
      ]
     },
     "execution_count": 120,
     "metadata": {},
     "output_type": "execute_result"
    }
   ],
   "source": [
    "# Entrenem el model amb regularització LASSO i Ridge\n",
    "\n",
    "  # LASSO: especielment utilitzat quan s'espera que, de totes les varibales independents, només siguin rellevants unes poques.   \n",
    "\n",
    "from sklearn.linear_model import Lasso\n",
    "from sklearn.linear_model import Ridge\n",
    "\n",
    "model_lasso_skl = Lasso(alpha=1.0)\n",
    "\n",
    "model_lasso_skl.fit(x2, y2)"
   ]
  },
  {
   "cell_type": "code",
   "execution_count": 121,
   "id": "cfba4444",
   "metadata": {},
   "outputs": [
    {
     "data": {
      "text/plain": [
       "Ridge()"
      ]
     },
     "execution_count": 121,
     "metadata": {},
     "output_type": "execute_result"
    }
   ],
   "source": [
    "# Ridge: especialment utilitzat quan les variables independents estan correlacionades entre sí o quan totes les variables inpendents tenen efecte significatiu sobre la variable objectiu\n",
    "\n",
    "model_Ridge = Ridge(alpha=1.0)\n",
    "\n",
    "model_Ridge.fit(x2,y2)"
   ]
  },
  {
   "cell_type": "code",
   "execution_count": 122,
   "id": "30f3f6bf",
   "metadata": {},
   "outputs": [
    {
     "name": "stdout",
     "output_type": "stream",
     "text": [
      "[30.99753918 25.77681736 29.98601449 29.51799813 28.03248999]\n"
     ]
    }
   ],
   "source": [
    "# Prediccions (LASSO):\n",
    "\n",
    "Prediccions_SKL_Lasso = model_lasso_skl.predict(x2)\n",
    "\n",
    "print(Prediccions_SKL_Lasso[:5]) # mostrem els primers 5 valors obtinguts"
   ]
  },
  {
   "cell_type": "code",
   "execution_count": 123,
   "id": "e5a2f858",
   "metadata": {},
   "outputs": [
    {
     "name": "stdout",
     "output_type": "stream",
     "text": [
      "[30.25311604 24.80547336 30.53232402 28.91100981 28.1832052 ]\n"
     ]
    }
   ],
   "source": [
    "# Prediccions (Ridge):\n",
    "\n",
    "Prediccions_SKL_Ridge = model_Ridge.predict(x2)\n",
    "\n",
    "print(Prediccions_SKL_Ridge[:5]) # mostrem els primers 5 valors obtinguts"
   ]
  },
  {
   "cell_type": "code",
   "execution_count": 124,
   "id": "b8d96d72",
   "metadata": {},
   "outputs": [
    {
     "data": {
      "text/plain": [
       "0.6825842212709925"
      ]
     },
     "execution_count": 124,
     "metadata": {},
     "output_type": "execute_result"
    }
   ],
   "source": [
    "# Calculem el R2 (LASSO)\n",
    "\n",
    "model_lasso_skl.score(x2,y2)"
   ]
  },
  {
   "cell_type": "code",
   "execution_count": 125,
   "id": "29585b06",
   "metadata": {},
   "outputs": [
    {
     "data": {
      "text/plain": [
       "0.7388703133867616"
      ]
     },
     "execution_count": 125,
     "metadata": {},
     "output_type": "execute_result"
    }
   ],
   "source": [
    "# Calculem el R2 (Ridge)\n",
    "\n",
    "model_Ridge.score(x2,y2)"
   ]
  },
  {
   "cell_type": "markdown",
   "id": "7687af51",
   "metadata": {},
   "source": [
    "### Comentaris:\n",
    "\n",
    "- Al limitar la magnitud dels coeficients del model de regressió pot reduïr l'ajust exceciu del model\n",
    "- En aquest sentit, pot reduir-se la capacitat del model per ajustar-se perfectament a les dades, el que pot comportar una reducció del R2, tal com observem tant en l'ajust amb LASSO com amb Ridge.\n",
    "- No obstant, el fet de tenir una R2 menor no implica necessariament que el model sigui pitjor, sino que s'han de tenir en compte altres aspectes."
   ]
  },
  {
   "cell_type": "markdown",
   "id": "4714f055",
   "metadata": {},
   "source": [
    "--------------------------------------------------------------------------------------------------------------------------------"
   ]
  },
  {
   "cell_type": "code",
   "execution_count": 126,
   "id": "de6ab3dc",
   "metadata": {},
   "outputs": [
    {
     "name": "stdout",
     "output_type": "stream",
     "text": [
      "El valor estimat de 'MEDV' és: 24.974540242572857\n"
     ]
    },
    {
     "name": "stderr",
     "output_type": "stream",
     "text": [
      "C:\\Users\\RSIMONNE\\Anaconda3\\lib\\site-packages\\sklearn\\base.py:450: UserWarning: X does not have valid feature names, but LinearRegression was fitted with feature names\n",
      "  warnings.warn(\n"
     ]
    }
   ],
   "source": [
    "# Prediccions en funció de la variable 'LSTAT' (REGRESSIÓ LINEAL)\n",
    "\n",
    "import numpy as np\n",
    "\n",
    "# Indiquem el valor de la variable 'LSTAT' per fer la predicció de 'MEDV'\n",
    "lstat_value = 8 \n",
    "\n",
    "# Indiquem la posició de la variable 'LSTAT' al dataframe incial\n",
    "lstat_index = 12\n",
    "\n",
    "# Calculem les mitjanes per a cada una de les variables\n",
    "mean_values = x.mean(axis=0)\n",
    "\n",
    "# Generem una array de '0' amb la mateixa forma del model (analitzat)\n",
    "array_0 = np.zeros((len(x), 13))\n",
    "\n",
    "# Indiquem el valor de 'LSTAT' per predir 'MEDV'\n",
    "array_0[:, lstat_index] = lstat_value\n",
    "\n",
    "#Indiequem les mitjanes\n",
    "for i in range(array_0.shape[1]):\n",
    "    if i != lstat_index:\n",
    "        array_0[:, i] = mean_values[i]\n",
    "\n",
    "# Fem la predicció utilitzant el model inicial de Regressio Lineal\n",
    "predicted_value = model_skl.predict(array_0)\n",
    "\n",
    "# Generem el valor estiamt de 'MEDV'\n",
    "print(\"El valor estimat de 'MEDV' és:\", predicted_value[0])\n",
    " "
   ]
  },
  {
   "cell_type": "code",
   "execution_count": 127,
   "id": "e0bde6ff",
   "metadata": {},
   "outputs": [
    {
     "name": "stdout",
     "output_type": "stream",
     "text": [
      "El valor estimat de 'MEDV' és: 26.07432039742614\n"
     ]
    },
    {
     "name": "stderr",
     "output_type": "stream",
     "text": [
      "C:\\Users\\RSIMONNE\\Anaconda3\\lib\\site-packages\\sklearn\\base.py:450: UserWarning: X does not have valid feature names, but Lasso was fitted with feature names\n",
      "  warnings.warn(\n"
     ]
    }
   ],
   "source": [
    "# Prediccions en funció de la variable 'LSTAT' (LASSO)\n",
    "\n",
    "import numpy as np\n",
    "\n",
    "# Indiquem el valor de la variable 'LSTAT' per fer la predicció de 'MEDV'\n",
    "lstat_value = 8 \n",
    "\n",
    "# Indiquem la posició de la variable 'LSTAT' al dataframe incial\n",
    "lstat_index = 12\n",
    "\n",
    "# Calculem les mitjanes per a cada una de les variables\n",
    "mean_values = x.mean(axis=0)\n",
    "\n",
    "# Generem una array de '0' amb la mateixa forma del model (analitzat)\n",
    "array_0 = np.zeros((len(x), 13))\n",
    "\n",
    "# Indiquem el valor de 'LSTAT' per predir 'MEDV'\n",
    "array_0[:, lstat_index] = lstat_value\n",
    "\n",
    "# Indiequem les mitjanes\n",
    "for i in range(array_0.shape[1]):\n",
    "    if i != lstat_index:\n",
    "        array_0[:, i] = mean_values[i]\n",
    "\n",
    "# Fem la predicció utilitzant el model entrenat LASSO\n",
    "predicted_value = model_lasso.predict(array_0)\n",
    "\n",
    "# Generem el valor estiamt de 'MEDV'\n",
    "print(\"El valor estimat de 'MEDV' és:\", predicted_value[0])"
   ]
  },
  {
   "cell_type": "code",
   "execution_count": 128,
   "id": "c3a3d0b9",
   "metadata": {},
   "outputs": [
    {
     "name": "stdout",
     "output_type": "stream",
     "text": [
      "El valor estimat de 'MEDV' és: 25.014486080828803\n"
     ]
    },
    {
     "name": "stderr",
     "output_type": "stream",
     "text": [
      "C:\\Users\\RSIMONNE\\Anaconda3\\lib\\site-packages\\sklearn\\base.py:450: UserWarning: X does not have valid feature names, but Ridge was fitted with feature names\n",
      "  warnings.warn(\n"
     ]
    }
   ],
   "source": [
    "# Prediccions en funció de la variable 'LSTAT' (RIDGE)\n",
    "\n",
    "import numpy as np\n",
    "\n",
    "# Indiquem el valor de la variable 'LSTAT' per fer la predicció de 'MEDV'\n",
    "lstat_value = 8 \n",
    "\n",
    "# Indiquem la posició de la variable 'LSTAT' al dataframe incial\n",
    "lstat_index = 12\n",
    "\n",
    "# Calculem les mitjanes per a cada una de les variables\n",
    "mean_values = x.mean(axis=0)\n",
    "\n",
    "# Generem una array de '0' amb la mateixa forma del model (analitzat)\n",
    "array_0 = np.zeros((len(x), 13))\n",
    "\n",
    "# Indiquem el valor de 'LSTAT' per predir 'MEDV'\n",
    "array_0[:, lstat_index] = lstat_value\n",
    "\n",
    "# Indiequem les mitjanes\n",
    "for i in range(array_0.shape[1]):\n",
    "    if i != lstat_index:\n",
    "        array_0[:, i] = mean_values[i]\n",
    "\n",
    "# Fem la predicció utilitzant el model inicial de Ridge\n",
    "predicted_value = model_Ridge.predict(array_0)\n",
    "\n",
    "# Generem el valor estiamt de 'MEDV'\n",
    "print(\"El valor estimat de 'MEDV' és:\", predicted_value[0])"
   ]
  },
  {
   "cell_type": "markdown",
   "id": "3d7c0612",
   "metadata": {},
   "source": [
    "------------------------------------------------------------------------------------------------------------------------------------------------------------------------------------------------------------------------------------------------------------------------------------------------------------------------------------------------------------------------------------------------"
   ]
  },
  {
   "cell_type": "markdown",
   "id": "29b50537",
   "metadata": {},
   "source": [
    "### Model 2: Random Forest"
   ]
  },
  {
   "cell_type": "code",
   "execution_count": 129,
   "id": "02dc080c",
   "metadata": {},
   "outputs": [
    {
     "data": {
      "text/plain": [
       "(506, 14)"
      ]
     },
     "execution_count": 129,
     "metadata": {},
     "output_type": "execute_result"
    }
   ],
   "source": [
    "import numpy as np\n",
    "import matplotlib.pyplot as plt\n",
    "import pandas as pd\n",
    "\n",
    "# Característiques del Data Frame\n",
    "\n",
    "Boston_df.shape  # 506 files - 14 columnes (variables)"
   ]
  },
  {
   "cell_type": "code",
   "execution_count": 130,
   "id": "d06a6c86",
   "metadata": {},
   "outputs": [],
   "source": [
    "# Separem les varibles independents de la variable que volem predir 'label' (etiqueta)\n",
    "\n",
    "y = np.array(Boston_df['MEDV'])\n",
    "\n",
    "# Treiem del DF la variable que volem predir 'label' (y) per establir les variables independents (x)\n",
    "\n",
    "x = Boston_df.drop('MEDV', axis = 1)\n",
    "\n",
    "# Guardem els noms de les variables independents (list)\n",
    "\n",
    "x_list = list(x.columns)\n",
    "\n",
    "# Convertim el nou DF en array (array amb les variables independents)\n",
    "\n",
    "x = np.array(x)\n"
   ]
  },
  {
   "cell_type": "code",
   "execution_count": 131,
   "id": "96f410f6",
   "metadata": {},
   "outputs": [
    {
     "name": "stdout",
     "output_type": "stream",
     "text": [
      "Baseline: 22.532806324110677\n",
      "Errors Baseline: [17.425 15.179 27.515 26.402 29.053 22.27  16.888 20.928 10.869 12.896\n",
      "  8.623 12.891 15.811 14.451 12.104 14.066 17.165 11.51  14.744 12.473\n",
      "  8.03  13.635  9.058  8.687  9.676  8.301 10.787  8.753 11.905 14.326\n",
      "  6.987  8.428  7.25   7.399  7.404 12.967 14.159 15.15  18.734 24.205\n",
      " 27.876 19.83  19.131 18.489 15.131 13.618 14.214 10.57   9.001 13.798\n",
      " 13.737 14.385 18.489 17.402 13.012 28.151 18.317 24.784 17.155 13.673\n",
      " 12.959 10.034 15.744 18.238 25.896 17.21  13.613 16.122 11.806 15.015\n",
      " 17.783 15.739 16.735 17.155 17.827 15.114 13.721 14.66  14.968 14.426\n",
      " 21.273 17.281 18.498 16.733 17.511 19.97  16.485 16.079 16.593 21.621\n",
      " 16.183 15.595 16.458 18.789 14.351 21.775 15.237 30.631 35.98  25.784\n",
      " 20.773 19.719 12.195 13.163 13.933 13.649 13.664 14.273 13.326 13.171\n",
      " 15.505 16.085 12.887 12.608 12.246 12.372 15.024 13.179 14.528 13.569\n",
      " 16.13  14.296 14.539 11.444 12.921 15.414 10.087 10.507 11.569  8.663\n",
      " 12.742 13.274 16.628 12.578  9.843 11.765 11.458 10.646  7.443 11.649\n",
      "  7.826  9.381  7.997 10.132  6.897  7.67   9.972  9.674 12.614  9.803\n",
      " 15.378 14.196 10.288 13.691 10.871  9.448  7.828 34.357 18.234 16.79\n",
      " 20.75  42.511 42.198 41.625 16.846 18.899 42.071 17.923 17.481 15.898\n",
      " 11.525 13.22  17.528 17.184 16.741 22.854 17.18  18.285 23.04  30.22\n",
      " 32.035 30.056 30.745 25.937 20.796 23.447 42.169 25.218 23.244 27.715\n",
      " 30.049 23.761 29.222 24.3   22.496 42.125 26.013 23.193 27.326 27.925\n",
      " 25.765 17.938 34.69  40.647 41.966 16.709 18.074 16.717 18.336 14.656\n",
      " 15.74  13.896 16.593 21.725 18.288 18.818 17.412 22.058 15.549 16.627\n",
      " 19.749 15.536 20.621 23.482 36.534 41.275 29.56  24.437 39.014 24.948\n",
      " 18.319 24.288 33.363 40.053 22.274 17.914 18.469 24.142 17.219 16.694\n",
      " 15.103 14.005 15.842 17.307 12.007 12.895 18.192 14.274 18.067 19.482\n",
      " 17.913 18.362 22.643 34.541 15.792 15.024 36.546 41.296 28.667 23.258\n",
      " 26.597 35.58  40.402 23.673 29.294 17.24  23.686 41.703 36.03  14.78\n",
      " 15.244 18.96  17.862 27.509 25.642 25.146 25.933 26.274 22.618 28.288\n",
      " 37.58  28.432 38.355 42.077 25.112 15.547 13.87  16.991 15.985 18.235\n",
      " 21.639 30.152 21.27  17.773 15.691 21.922 20.551 14.51  16.155 21.959\n",
      " 17.929 15.41  19.905 26.118 28.864 21.784 25.98  21.351 16.165 14.328\n",
      " 11.127 15.978 13.377 15.334 17.233 10.495 11.886 14.018 16.718 14.887\n",
      " 17.374 16.724 14.359 12.792 18.585 18.169 16.688 16.117 13.432 16.267\n",
      " 13.656 11.394 13.369 15.884 14.39  15.063 13.631 12.605 14.541 13.015\n",
      " 12.732 25.459  9.96  17.204 24.326 11.486 11.302 16.584 17.865 19.661\n",
      " 16.41  17.521 12.716 23.372 12.537 14.664 11.588 15.305 16.573 16.488\n",
      " 18.602 13.649 15.438 10.997 13.12  23.939 16.937 19.237 45.03  43.317\n",
      " 42.984 43.784 44.125  8.894  9.662  7.687  7.251  6.506  6.72   3.977\n",
      "  3.432  4.355  5.764  6.78   4.432  1.923  5.848  2.4    5.32   6.11\n",
      "  9.387 17.149  4.664  7.607  6.813  6.629  6.095  2.753  0.453  0.448\n",
      "  0.387  0.857  5.696  2.951  2.969  0.683  7.762 22.292 11.583 20.648\n",
      "  9.243 10.543 13.272 11.145  2.481  0.766  0.718  5.096  2.843  1.576\n",
      " 10.289  8.194 15.152  7.297  6.135  2.404  4.363  4.698  4.807  3.12\n",
      "  8.152  7.267  9.675  7.864  5.492  6.771  3.139  2.548  2.465  7.173\n",
      "  4.682 10.694 12.181  8.915  4.946  5.341  8.559  6.349  7.915  6.583\n",
      "  6.651  8.545  9.803 10.407  8.172  7.575  6.724  7.564  8.599 13.919\n",
      "  9.699 11.324 13.183 13.687 15.191 14.141 13.048 13.097 13.174 14.387\n",
      " 13.733 13.371 16.763 22.82   8.373  7.138 10.216  6.696  8.415 15.171\n",
      " 16.758 16.95  17.939 16.038 14.729 14.888 12.986 14.695  9.746  1.586\n",
      "  3.007  7.617 14.117 16.093 18.574 17.43  14.31  12.506 15.181 11.931\n",
      " 10.773 15.807 14.48  16.924 15.206  5.87 ]\n",
      "Mitjana errors Baseline: 16.25\n"
     ]
    }
   ],
   "source": [
    "# Establim la linia base (baseline), la mitjana que s'haurà de superar amb el nostre model.(de la variable a predir)\n",
    "\n",
    "y_mean = np.mean(y)\n",
    "\n",
    "print(\"Baseline:\", y_mean)\n",
    "\n",
    "baseline_RM = x[:,x_list.index('RM')]\n",
    "\n",
    "# Calculem els errors de la linia base i la mitjana dels errors:\n",
    "\n",
    "baseline_errors = abs(baseline_RM - y) \n",
    "\n",
    "print(\"Errors Baseline:\", baseline_errors)\n",
    "\n",
    "print((\"Mitjana errors Baseline:\"),round(np.mean(baseline_errors), 2))\n",
    "\n"
   ]
  },
  {
   "cell_type": "code",
   "execution_count": 132,
   "id": "3a2a0c1d",
   "metadata": {},
   "outputs": [
    {
     "data": {
      "text/plain": [
       "RandomForestRegressor(max_features='sqrt', random_state=42)"
      ]
     },
     "execution_count": 132,
     "metadata": {},
     "output_type": "execute_result"
    }
   ],
   "source": [
    "from sklearn.ensemble import RandomForestRegressor\n",
    "\n",
    "# Creem un model Random Forest de 100 arbres de decisió:\n",
    "rf_Boston = RandomForestRegressor(n_estimators = 100, max_features='sqrt', random_state = 42)\n",
    "\n",
    "# Ajustem el model \n",
    "rf_Boston.fit(x, y)"
   ]
  },
  {
   "cell_type": "code",
   "execution_count": 133,
   "id": "eabcb380",
   "metadata": {},
   "outputs": [
    {
     "name": "stdout",
     "output_type": "stream",
     "text": [
      "MSE: 1.5499260138339905\n",
      "Millora sobre la Baseline: 82.86963014233156\n",
      "R2: 0.9816402018157164\n"
     ]
    }
   ],
   "source": [
    "from sklearn.metrics import mean_squared_error\n",
    "from sklearn.metrics import r2_score\n",
    "\n",
    "# Predicció del model:\n",
    "\n",
    "y_pred = rf_Boston.predict(x)\n",
    "\n",
    "# Calculem l'error quadràtic mitjà del model\n",
    "\n",
    "mse = mean_squared_error(y, y_pred)\n",
    "\n",
    "# Calculem la R2 (de la variable que hem de predir)\n",
    "\n",
    "r2 = r2_score(y, y_pred)\n",
    "\n",
    "# Resultats de MSE, R2 i la millora sobre la Baseline\n",
    "\n",
    "print(\"MSE:\", mse)\n",
    "print(\"Millora sobre la Baseline:\", mean_squared_error(y, np.full_like(y, y_mean)) - mse)\n",
    "print(\"R2:\", r2)\n"
   ]
  },
  {
   "cell_type": "markdown",
   "id": "6eadabab",
   "metadata": {},
   "source": [
    "### Comentaris:\n",
    "\n",
    "- En aquest cas obtenim un R2 = 0.98, el que ens indica que el model presenta un molt bon ajust.\n",
    "- El MSE (mean squared error) obtingut és molt inferior als obtinguts als models de regressió lineal (Statsmodel i SKLearn), per tant podríem establir que el model realitzat amb RandomForest és un model més ajustat.\n",
    "- El model RandomForest és capaç de modelar relacions no lineals entre les variables; aquest podría ser el motiu per el qual untilitzant RandomForest obtenim un model més ajustat."
   ]
  },
  {
   "cell_type": "markdown",
   "id": "d858836f",
   "metadata": {},
   "source": [
    "--------------------------------------------------------------------------------------------------------------------------------"
   ]
  },
  {
   "cell_type": "code",
   "execution_count": 134,
   "id": "8402e53d",
   "metadata": {},
   "outputs": [
    {
     "name": "stdout",
     "output_type": "stream",
     "text": [
      "23.04793291321172\n",
      "0.7269834862602695\n"
     ]
    }
   ],
   "source": [
    "# Entrenem el model utilitzant la tècnica 'Regularized Random Forest' (RRF) amb regularització LASSO \n",
    "\n",
    "import numpy as np\n",
    "import pandas as pd\n",
    "from sklearn.ensemble import RandomForestRegressor\n",
    "from sklearn.linear_model import Lasso\n",
    "from sklearn.model_selection import train_test_split\n",
    "from sklearn.metrics import mean_squared_error\n",
    "\n",
    "importants = rf_Boston.feature_importances_\n",
    "\n",
    "lasso = Lasso(alpha=0.1)\n",
    "lasso.fit(x[:,importants>0],y)\n",
    "\n",
    "y_pred_lasso = lasso.predict(x[:,importants>0])\n",
    "mse = mean_squared_error(y, y_pred_lasso)\n",
    "\n",
    "r2 = r2_score(y, y_pred_lasso)\n",
    "\n",
    "print(mse)\n",
    "print(r2)"
   ]
  },
  {
   "cell_type": "markdown",
   "id": "d28da8f8",
   "metadata": {},
   "source": [
    "----------------------------------------------------------------------------------------------------------------------------"
   ]
  },
  {
   "cell_type": "code",
   "execution_count": 135,
   "id": "800c2917",
   "metadata": {},
   "outputs": [
    {
     "name": "stdout",
     "output_type": "stream",
     "text": [
      "Característiques Train_x: (404, 13)\n",
      "Característiques Train_y: (404,)\n",
      "Característiques Test_x: (102, 13)\n",
      "Característiques Test_y: (102,)\n"
     ]
    }
   ],
   "source": [
    "# Fem la partició del conjunt de dades en 'Train' i 'Test'\n",
    "\n",
    "from sklearn.model_selection import train_test_split\n",
    "\n",
    "train_x, test_x, train_y, test_y = train_test_split(x, y, test_size = 0.20,random_state = 42)\n",
    "\n",
    "print('Característiques Train_x:', train_x.shape)\n",
    "print('Característiques Train_y:', train_y.shape)\n",
    "print('Característiques Test_x:', test_x.shape)\n",
    "print('Característiques Test_y:', test_y.shape)\n",
    "\n",
    "# En 'Train' tenim el 80% dels valors (404 files) i en 'Test' el 20% (102 files)\n"
   ]
  },
  {
   "cell_type": "code",
   "execution_count": 136,
   "id": "5bc12fdc",
   "metadata": {},
   "outputs": [
    {
     "name": "stdout",
     "output_type": "stream",
     "text": [
      "Linia base Train: 22.796534653465343\n",
      "Linia base Test: 21.488235294117644\n"
     ]
    },
    {
     "data": {
      "text/plain": [
       "15.34"
      ]
     },
     "execution_count": 136,
     "metadata": {},
     "output_type": "execute_result"
    }
   ],
   "source": [
    "# Establim la linia base (baseline), la mitjana que s'haurà de superar amb el nostre model.(de la variable a predir)\n",
    "\n",
    "train_y_mean = np.mean(train_y)\n",
    "test_y_mean = np.mean(test_y)\n",
    "\n",
    "print(\"Linia base Train:\", train_y_mean)\n",
    "print(\"Linia base Test:\", test_y_mean)\n",
    "\n",
    "baseline_RM = test_x[:,x_list.index('RM')]\n",
    "\n",
    "# Calculem els errors de la linia base i la mitjana dels errors:\n",
    "\n",
    "baseline_errors = abs(baseline_RM - test_y) \n",
    "\n",
    "round(np.mean(baseline_errors), 2)\n",
    "\n",
    "   "
   ]
  },
  {
   "cell_type": "code",
   "execution_count": 137,
   "id": "76bdf2ca",
   "metadata": {},
   "outputs": [
    {
     "data": {
      "text/plain": [
       "RandomForestRegressor(n_estimators=1000, random_state=42)"
      ]
     },
     "execution_count": 137,
     "metadata": {},
     "output_type": "execute_result"
    }
   ],
   "source": [
    "from sklearn.ensemble import RandomForestRegressor\n",
    "\n",
    "# Creem un model Random Forest de 1000 arbres de decisió:\n",
    "rf_Boston = RandomForestRegressor(n_estimators = 1000, random_state = 42)\n",
    "\n",
    "# Ajustem el model amb les dades d'enrenament ('Train') \n",
    "rf_Boston.fit(train_x, train_y)\n"
   ]
  },
  {
   "cell_type": "code",
   "execution_count": 138,
   "id": "93f9569d",
   "metadata": {},
   "outputs": [
    {
     "name": "stdout",
     "output_type": "stream",
     "text": [
      "MSE Train: 1.8978967982177972\n",
      "MSE Test: 8.84665565990191\n",
      "Millora sobre la Baseline Train: 84.97550703473975\n",
      "Millora sobre la Baseline Test: 64.48712750042104\n",
      "R2 Train: 0.9781533045272737\n",
      "R2 Test: 0.8793645264344092\n"
     ]
    }
   ],
   "source": [
    "from sklearn.metrics import mean_squared_error\n",
    "from sklearn.metrics import r2_score\n",
    "\n",
    "# Prediccions en el models 'Train' i 'Test'\n",
    "\n",
    "y_pred_train = rf_Boston.predict(train_x)\n",
    "y_pred_test = rf_Boston.predict(test_x)\n",
    "\n",
    "# Calculem l'error quadràtic mitjà dels models 'Train' i 'Test' (de la variable que hem de predir 'label')\n",
    "\n",
    "mse_train = mean_squared_error(train_y, y_pred_train)\n",
    "mse_test = mean_squared_error(test_y, y_pred_test)\n",
    "\n",
    "# Calculem la R2 (de la variable que hem de predir 'label')\n",
    "\n",
    "r2_train = r2_score(train_y, y_pred_train)\n",
    "r2_test = r2_score(test_y, y_pred_test)\n",
    "\n",
    "\n",
    "# Resultats de MSE, R2 i la millora sobre la Baseline\n",
    "print(\"MSE Train:\", mse_train)\n",
    "print(\"MSE Test:\", mse_test)\n",
    "print(\"Millora sobre la Baseline Train:\", mean_squared_error(train_y, np.full_like(train_y, train_y_mean)) - mse_train)\n",
    "print(\"Millora sobre la Baseline Test:\", mean_squared_error(test_y, np.full_like(test_y, test_y_mean)) - mse_test)\n",
    "print(\"R2 Train:\", r2_train)\n",
    "print(\"R2 Test:\", r2_test)"
   ]
  },
  {
   "cell_type": "markdown",
   "id": "000b4ccd",
   "metadata": {},
   "source": [
    "----------------------------------------------------------------------------------------------------------------------------"
   ]
  },
  {
   "cell_type": "code",
   "execution_count": 139,
   "id": "b6754632",
   "metadata": {},
   "outputs": [
    {
     "name": "stdout",
     "output_type": "stream",
     "text": [
      "El valor estimat de 'MEDV' és: 23.43379999999993\n"
     ]
    }
   ],
   "source": [
    "  # Prediccions en funció de la variable 'LSTAT' (rf_Boston)\n",
    "\n",
    "import numpy as np\n",
    "\n",
    "# Indiquem el valor de la variable 'LSTAT' per fer la predicció de 'MEDV'\n",
    "lstat_value = 8 \n",
    "\n",
    "# Indiquem la posició de la variable 'LSTAT' al dataframe incial\n",
    "lstat_index = 12\n",
    "\n",
    "# Calculem les mitjanes per a cada una de les variables\n",
    "mean_values = x.mean(axis=0)\n",
    "\n",
    "# Generem una array de '0' amb la mateixa forma del model (analitzat)\n",
    "array_0 = np.zeros((len(x), 13))\n",
    "\n",
    "# Indiquem el valor de 'LSTAT' per predir 'MEDV'\n",
    "array_0[:, lstat_index] = lstat_value\n",
    "\n",
    "# Indiequem les mitjanes\n",
    "for i in range(array_0.shape[1]):\n",
    "    if i != lstat_index:\n",
    "        array_0[:, i] = mean_values[i]\n",
    "        \n",
    "# Fem la predicció utilitzant el model entrenat LASSO\n",
    "predicted_value = rf_Boston.predict(array_0)\n",
    "\n",
    "# Generem el valor estiamt de 'MEDV'\n",
    "print(\"El valor estimat de 'MEDV' és:\", predicted_value[0])  "
   ]
  },
  {
   "cell_type": "code",
   "execution_count": 140,
   "id": "e52e9cde",
   "metadata": {},
   "outputs": [
    {
     "name": "stdout",
     "output_type": "stream",
     "text": [
      "El valor estimat de 'MEDV' és: 25.17932508257821\n"
     ]
    }
   ],
   "source": [
    "  # Prediccions en funció de la variable 'LSTAT' (LASSO)\n",
    "\n",
    "import numpy as np\n",
    "\n",
    "# Indiquem el valor de la variable 'LSTAT' per fer la predicció de 'MEDV'\n",
    "lstat_value = 8 \n",
    "\n",
    "# Indiquem la posició de la variable 'LSTAT' al dataframe incial\n",
    "lstat_index = 12\n",
    "\n",
    "# Calculem les mitjanes per a cada una de les variables\n",
    "mean_values = x.mean(axis=0)\n",
    "\n",
    "# Generem una array de '0' amb la mateixa forma del model (analitzat)\n",
    "array_0 = np.zeros((len(x), 13))\n",
    "\n",
    "# Indiquem el valor de 'LSTAT' per predir 'MEDV'\n",
    "array_0[:, lstat_index] = lstat_value\n",
    "\n",
    "# Indiequem les mitjanes\n",
    "for i in range(array_0.shape[1]):\n",
    "    if i != lstat_index:\n",
    "        array_0[:, i] = mean_values[i]\n",
    "\n",
    "# Fem la predicció utilitzant el model entrenat LASSO\n",
    "predicted_value = lasso.predict(array_0)\n",
    "\n",
    "# Generem el valor estiamt de 'MEDV'\n",
    "print(\"El valor estimat de 'MEDV' és:\", predicted_value[0])  "
   ]
  },
  {
   "cell_type": "code",
   "execution_count": null,
   "id": "fd125ac8",
   "metadata": {},
   "outputs": [],
   "source": []
  }
 ],
 "metadata": {
  "kernelspec": {
   "display_name": "Python 3 (ipykernel)",
   "language": "python",
   "name": "python3"
  },
  "language_info": {
   "codemirror_mode": {
    "name": "ipython",
    "version": 3
   },
   "file_extension": ".py",
   "mimetype": "text/x-python",
   "name": "python",
   "nbconvert_exporter": "python",
   "pygments_lexer": "ipython3",
   "version": "3.9.13"
  }
 },
 "nbformat": 4,
 "nbformat_minor": 5
}
